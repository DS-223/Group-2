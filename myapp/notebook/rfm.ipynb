{
 "cells": [
  {
   "cell_type": "code",
   "execution_count": 1,
   "id": "dee6fbe9-f709-4b33-b888-1fc0cb970848",
   "metadata": {},
   "outputs": [],
   "source": [
    "import requests\n",
    "import pandas as pd\n",
    "\n",
    "API_BASE     = \"http://api:8000\"\n",
    "RFMS_ENDPOINT = f\"{API_BASE}/rfm_segments/\"\n",
    "\n",
    "# Fetch all RFM rows\n",
    "resp = requests.get(RFMS_ENDPOINT)\n",
    "resp.raise_for_status()\n",
    "\n",
    "# Build DataFrame\n",
    "df_rfm = pd.DataFrame(resp.json())\n",
    "\n",
    "# Convert date_created back to datetime\n",
    "df_rfm['date_created'] = pd.to_datetime(df_rfm['date_created'])\n",
    "\n",
    "df_rfm.head()\n"
   ]
  },
  {
   "cell_type": "code",
   "execution_count": null,
   "id": "93a4dc8e-0073-458f-bb3d-8b7bc11e4737",
   "metadata": {},
   "outputs": [],
   "source": [
    "print(df_rfm['segment'].value_counts())"
   ]
  },
  {
   "cell_type": "code",
   "execution_count": null,
   "id": "fbb72467-9aa0-43e5-958b-20fccdef8697",
   "metadata": {},
   "outputs": [],
   "source": [
    "df_rfm['recency_days'].hist(bins=20, figsize=(6,3))"
   ]
  },
  {
   "cell_type": "code",
   "execution_count": null,
   "id": "70cdeb3a-d2de-40c0-b9d1-a1226d27d6e5",
   "metadata": {},
   "outputs": [],
   "source": [
    "df_rfm.plot.scatter(x='frequency', y='monetary', alpha=0.6);"
   ]
  },
  {
   "cell_type": "code",
   "execution_count": null,
   "id": "80a48aac-bc12-4cf2-8d1e-02c641774b0b",
   "metadata": {},
   "outputs": [],
   "source": [
    "df_rfm.groupby('segment')['monetary'].mean().sort_values().plot.barh();"
   ]
  }
 ],
 "metadata": {
  "kernelspec": {
   "display_name": "Python 3 (ipykernel)",
   "language": "python",
   "name": "python3"
  },
  "language_info": {
   "codemirror_mode": {
    "name": "ipython",
    "version": 3
   },
   "file_extension": ".py",
   "mimetype": "text/x-python",
   "name": "python",
   "nbconvert_exporter": "python",
   "pygments_lexer": "ipython3",
   "version": "3.10.17"
  }
 },
 "nbformat": 4,
 "nbformat_minor": 5
}
